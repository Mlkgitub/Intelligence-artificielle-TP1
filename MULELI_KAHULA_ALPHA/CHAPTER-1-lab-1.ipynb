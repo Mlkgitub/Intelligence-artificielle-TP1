{
 "cells": [
  {
   "cell_type": "markdown",
   "id": "3156eb91-0882-47ac-b6f9-26ab1e4a5b23",
   "metadata": {},
   "source": [
    "# A. IMPOTATION DE LIBRARIS"
   ]
  },
  {
   "cell_type": "code",
   "execution_count": 63,
   "id": "79095e69-f948-49da-8018-0591e402078c",
   "metadata": {},
   "outputs": [],
   "source": [
    "# Importation de libraries"
   ]
  },
  {
   "cell_type": "code",
   "execution_count": 64,
   "id": "9c1d9a04-f30a-4fe2-a163-c52bfb75b66e",
   "metadata": {},
   "outputs": [],
   "source": [
    "import numpy as np"
   ]
  },
  {
   "cell_type": "markdown",
   "id": "2cd38f4f-10bc-4109-92b8-d216efbefee5",
   "metadata": {},
   "source": [
    "# 1. tableau"
   ]
  },
  {
   "cell_type": "markdown",
   "id": "4ca60939-a081-4da6-b823-d53ba9c16d08",
   "metadata": {},
   "source": [
    "## 1.1 tableau a 1 D"
   ]
  },
  {
   "cell_type": "code",
   "execution_count": 65,
   "id": "7dcde856-f85b-453e-acfa-391d3ed07688",
   "metadata": {},
   "outputs": [],
   "source": [
    "# creation d'un tableau a 1D\n",
    "tab_1D = np.array([2,4,6,8,10,12,14])"
   ]
  },
  {
   "cell_type": "code",
   "execution_count": 66,
   "id": "8668adff-3e85-45e2-bd29-7bd981443102",
   "metadata": {},
   "outputs": [
    {
     "data": {
      "text/plain": [
       "array([ 2,  4,  6,  8, 10, 12, 14])"
      ]
     },
     "execution_count": 66,
     "metadata": {},
     "output_type": "execute_result"
    }
   ],
   "source": [
    "tab_1D"
   ]
  },
  {
   "cell_type": "code",
   "execution_count": 67,
   "id": "cfc85528-d1f1-4e68-9b0c-a6a2ea029b9e",
   "metadata": {},
   "outputs": [
    {
     "name": "stdout",
     "output_type": "stream",
     "text": [
      "[ 2  4  6  8 10 12 14]\n"
     ]
    }
   ],
   "source": [
    "print(tab_1D)"
   ]
  },
  {
   "cell_type": "code",
   "execution_count": 68,
   "id": "e53cc08d-f2d6-4ca5-b647-a2e745e490a1",
   "metadata": {},
   "outputs": [
    {
     "name": "stdout",
     "output_type": "stream",
     "text": [
      "(7,)\n"
     ]
    }
   ],
   "source": [
    "print(tab_1D.shape)"
   ]
  },
  {
   "cell_type": "code",
   "execution_count": 69,
   "id": "f8900661-9ec4-4d40-a08c-e41c2a4179b9",
   "metadata": {},
   "outputs": [
    {
     "data": {
      "text/plain": [
       "numpy.ndarray"
      ]
     },
     "execution_count": 69,
     "metadata": {},
     "output_type": "execute_result"
    }
   ],
   "source": [
    "type(tab_1D)"
   ]
  },
  {
   "cell_type": "code",
   "execution_count": 70,
   "id": "f5188245-b53e-4283-bfd0-a1f4f51dac8f",
   "metadata": {},
   "outputs": [
    {
     "name": "stdout",
     "output_type": "stream",
     "text": [
      "Dimension de tableau (7,)\n",
      "type du tableau <class 'numpy.ndarray'>\n",
      "voici le tableau: [ 2  4  6  8 10 12 14]\n"
     ]
    }
   ],
   "source": [
    "print(\"Dimension de tableau\", tab_1D.shape)\n",
    "print(\"type du tableau\", type(tab_1D))\n",
    "print(\"voici le tableau:\", tab_1D)"
   ]
  },
  {
   "cell_type": "code",
   "execution_count": 71,
   "id": "d1ab36c1-47d8-4433-befd-d56b41d2223b",
   "metadata": {
    "tags": []
   },
   "outputs": [
    {
     "name": "stdout",
     "output_type": "stream",
     "text": [
      "[ 2  4  6  8 10 12 14]\n"
     ]
    }
   ],
   "source": [
    "# selection des elements\n",
    "print(tab_1D)"
   ]
  },
  {
   "cell_type": "code",
   "execution_count": null,
   "id": "3a9f0daf-c91e-4bda-be8b-1963fc22375b",
   "metadata": {},
   "outputs": [],
   "source": []
  },
  {
   "cell_type": "markdown",
   "id": "1b5074f9-f706-402f-9065-62861e671ffa",
   "metadata": {},
   "source": [
    "## 1.2 tableau 2D"
   ]
  },
  {
   "cell_type": "code",
   "execution_count": 72,
   "id": "1a8dd48a-1ed1-4105-ae70-277930630c64",
   "metadata": {},
   "outputs": [],
   "source": [
    "# creation d'un tableau a 2D\n",
    "tab_2D = np.array([\n",
    "    [1,3,5,7,8],\n",
    "    [11,33,55,77, 88]\n",
    "])"
   ]
  },
  {
   "cell_type": "code",
   "execution_count": 73,
   "id": "ead540b2-de0c-40dc-a2f1-14c843e5c430",
   "metadata": {},
   "outputs": [
    {
     "name": "stdout",
     "output_type": "stream",
     "text": [
      "Dimension de tableau (2, 5)\n",
      "type du tableau <class 'numpy.ndarray'>\n",
      "[[ 1  3  5  7  8]\n",
      " [11 33 55 77 88]]\n"
     ]
    }
   ],
   "source": [
    "print(\"Dimension de tableau\", tab_2D.shape)\n",
    "print(\"type du tableau\", type(tab_2D))\n",
    "print(tab_2D)"
   ]
  },
  {
   "cell_type": "code",
   "execution_count": 74,
   "id": "5c45dd0a-8c09-4df4-a9ea-da4f3cba3893",
   "metadata": {
    "tags": []
   },
   "outputs": [
    {
     "name": "stdout",
     "output_type": "stream",
     "text": [
      "[[ 1  3  5  7  8]\n",
      " [11 33 55 77 88]]\n"
     ]
    }
   ],
   "source": [
    "# selection des elements\n",
    "print(tab_2D)"
   ]
  },
  {
   "cell_type": "code",
   "execution_count": 75,
   "id": "e56ca653-6046-427e-9e55-fe16abae4dce",
   "metadata": {
    "tags": []
   },
   "outputs": [
    {
     "data": {
      "text/plain": [
       "55"
      ]
     },
     "execution_count": 75,
     "metadata": {},
     "output_type": "execute_result"
    }
   ],
   "source": [
    "tab_2D[1][2]"
   ]
  },
  {
   "cell_type": "markdown",
   "id": "f5a97bc5-926a-471b-ba98-5915f860287c",
   "metadata": {},
   "source": [
    "## 1.3 tableau 3D"
   ]
  },
  {
   "cell_type": "code",
   "execution_count": 76,
   "id": "cb941318-27dc-4315-9b02-83d99410574c",
   "metadata": {},
   "outputs": [],
   "source": [
    "# creation d'un tableau 3D\n",
    "tab_3D = np.array([[\n",
    "    [9,7,5,3,1,0],\n",
    "    [100,90,70,50,30,10],\n",
    "    [115,95,75,55,35,15],\n",
    "    \n",
    "]])"
   ]
  },
  {
   "cell_type": "code",
   "execution_count": 77,
   "id": "db101c4b-32cb-4313-bda7-26e8eae0870d",
   "metadata": {},
   "outputs": [
    {
     "name": "stdout",
     "output_type": "stream",
     "text": [
      "Dimension de tableau (1, 3, 6)\n",
      "type du tableau <class 'numpy.ndarray'>\n",
      "[[[  9   7   5   3   1   0]\n",
      "  [100  90  70  50  30  10]\n",
      "  [115  95  75  55  35  15]]]\n"
     ]
    }
   ],
   "source": [
    "print(\"Dimension de tableau\", tab_3D.shape)\n",
    "print(\"type du tableau\", type(tab_3D))\n",
    "print(tab_3D)"
   ]
  },
  {
   "cell_type": "code",
   "execution_count": 78,
   "id": "9531f9c6-787e-41fd-9f71-cd77bc72f4ad",
   "metadata": {
    "tags": []
   },
   "outputs": [
    {
     "data": {
      "text/plain": [
       "array([[[  9,   7,   5,   3,   1,   0],\n",
       "        [100,  90,  70,  50,  30,  10],\n",
       "        [115,  95,  75,  55,  35,  15]]])"
      ]
     },
     "execution_count": 78,
     "metadata": {},
     "output_type": "execute_result"
    }
   ],
   "source": [
    "# selection des elements \n",
    "tab_3D.shape\n",
    "tab_3D"
   ]
  },
  {
   "cell_type": "code",
   "execution_count": 79,
   "id": "f2b4b34b-c47f-4979-84ee-5e84d30c679a",
   "metadata": {
    "tags": []
   },
   "outputs": [
    {
     "name": "stdout",
     "output_type": "stream",
     "text": [
      "(1, 3, 6)\n",
      "[[[  9   7   5   3   1   0]\n",
      "  [100  90  70  50  30  10]\n",
      "  [115  95  75  55  35  15]]]\n"
     ]
    }
   ],
   "source": [
    "print(tab_3D.shape)\n",
    "print(tab_3D)"
   ]
  },
  {
   "cell_type": "code",
   "execution_count": 80,
   "id": "9b294e96-f686-4aa4-a4b8-da3099bc53c4",
   "metadata": {
    "tags": []
   },
   "outputs": [
    {
     "data": {
      "text/plain": [
       "75"
      ]
     },
     "execution_count": 80,
     "metadata": {},
     "output_type": "execute_result"
    }
   ],
   "source": [
    "tab_3D[0][2][2]"
   ]
  },
  {
   "cell_type": "markdown",
   "id": "45419add-9023-4f19-b12b-4a7b839a07e1",
   "metadata": {},
   "source": [
    "## 1.4 tableau a 4D"
   ]
  },
  {
   "cell_type": "code",
   "execution_count": 81,
   "id": "8e3b4e27-4275-4636-a78c-e1a19da04eff",
   "metadata": {},
   "outputs": [],
   "source": [
    "# creation d'un tableau 4D\n",
    "tab_4D = np.array([[[\n",
    "    [2, 4 , 6, 8, 10],\n",
    "    [25, 45, 65, 85, 105],\n",
    "    [200,150,100,55,25],\n",
    "]]])"
   ]
  },
  {
   "cell_type": "code",
   "execution_count": 82,
   "id": "92834d65-b020-4d5f-a7f8-dabcd6190534",
   "metadata": {},
   "outputs": [
    {
     "name": "stdout",
     "output_type": "stream",
     "text": [
      "Dimension de tableau (1, 1, 3, 5)\n",
      "type du tableau <class 'numpy.ndarray'>\n",
      "[[[[  2   4   6   8  10]\n",
      "   [ 25  45  65  85 105]\n",
      "   [200 150 100  55  25]]]]\n"
     ]
    }
   ],
   "source": [
    "print(\"Dimension de tableau\", tab_4D.shape)\n",
    "print(\"type du tableau\", type(tab_4D))\n",
    "print(tab_4D)"
   ]
  },
  {
   "cell_type": "markdown",
   "id": "4e3420e2-8648-486c-945c-9c6581b51619",
   "metadata": {},
   "source": [
    "## B. OPERATIONS"
   ]
  },
  {
   "cell_type": "code",
   "execution_count": 83,
   "id": "91ebd233-6323-4a3e-b1af-0c3f32447069",
   "metadata": {
    "tags": []
   },
   "outputs": [],
   "source": [
    "a = np.array([\n",
    "    [2,4,6,8],\n",
    "    [24,45,65,85],\n",
    "])\n",
    "b = np.array([\n",
    "    [18,36,54,8],\n",
    "    [250,450,650,850],\n",
    "])\n",
    "    "
   ]
  },
  {
   "cell_type": "code",
   "execution_count": 84,
   "id": "e03eb182-7779-4615-b244-07246772c5e5",
   "metadata": {
    "tags": []
   },
   "outputs": [
    {
     "name": "stdout",
     "output_type": "stream",
     "text": [
      "(2, 4)\n",
      "[[ 2  4  6  8]\n",
      " [24 45 65 85]]\n",
      "(2, 4)\n",
      "[[ 18  36  54   8]\n",
      " [250 450 650 850]]\n"
     ]
    }
   ],
   "source": [
    "print(a.shape)\n",
    "print(a)\n",
    "print(b.shape)\n",
    "print(b)"
   ]
  },
  {
   "cell_type": "code",
   "execution_count": 85,
   "id": "ae8a16b5-486b-43b2-b09d-35fb3239cfa9",
   "metadata": {
    "tags": []
   },
   "outputs": [],
   "source": [
    "# creation d'un dictionnaire\n",
    "info_etudiants = {\n",
    "    'Matricule': '2022020131',\n",
    "    'nom': 'MOKA',\n",
    "    'prenom': 'GEDEON',\n",
    "    'age': 23,\n",
    "    'GPA': 'A'\n",
    "}"
   ]
  },
  {
   "cell_type": "code",
   "execution_count": 86,
   "id": "70fd042d-89a4-4cf9-86b8-e9b14e70ca78",
   "metadata": {
    "tags": []
   },
   "outputs": [
    {
     "data": {
      "text/plain": [
       "{'Matricule': '2022020131',\n",
       " 'nom': 'MOKA',\n",
       " 'prenom': 'GEDEON',\n",
       " 'age': 23,\n",
       " 'GPA': 'A'}"
      ]
     },
     "execution_count": 86,
     "metadata": {},
     "output_type": "execute_result"
    }
   ],
   "source": [
    "info_etudiants"
   ]
  },
  {
   "cell_type": "code",
   "execution_count": 87,
   "id": "d41962f4-8091-40b2-98f5-0b6edbc07b52",
   "metadata": {
    "tags": []
   },
   "outputs": [
    {
     "name": "stdout",
     "output_type": "stream",
     "text": [
      "{'Matricule': '2022020131', 'nom': 'MOKA', 'prenom': 'GEDEON', 'age': 23, 'GPA': 'A'}\n"
     ]
    }
   ],
   "source": [
    "print(info_etudiants)"
   ]
  },
  {
   "cell_type": "code",
   "execution_count": 88,
   "id": "0a87b1bf-3240-4a4b-a8ae-9969cc0a5a74",
   "metadata": {
    "tags": []
   },
   "outputs": [],
   "source": [
    "info_tous_les_etudiants_BAC_GL_IA = {\n",
    "    'Matricule':['2022020131', '2022020143','2022020154','2022020242'],\n",
    "    'Nom': ['moka', 'Muleli', 'MBIYA', 'Kateta'],\n",
    "    'prenom': ['GEDEON','alpha','felix','patrick'],\n",
    "    'age': ['23','20','18','19'],\n",
    "    'GPA': ['A','B','A','C']\n",
    "}"
   ]
  },
  {
   "cell_type": "code",
   "execution_count": 89,
   "id": "f3079dbd-371b-4ac7-83ee-d2a359f08627",
   "metadata": {
    "tags": []
   },
   "outputs": [
    {
     "data": {
      "text/plain": [
       "{'Matricule': ['2022020131', '2022020143', '2022020154', '2022020242'],\n",
       " 'Nom': ['moka', 'Muleli', 'MBIYA', 'Kateta'],\n",
       " 'prenom': ['GEDEON', 'alpha', 'felix', 'patrick'],\n",
       " 'age': ['23', '20', '18', '19'],\n",
       " 'GPA': ['A', 'B', 'A', 'C']}"
      ]
     },
     "execution_count": 89,
     "metadata": {},
     "output_type": "execute_result"
    }
   ],
   "source": [
    "info_tous_les_etudiants_BAC_GL_IA"
   ]
  },
  {
   "cell_type": "code",
   "execution_count": 90,
   "id": "00d73125-0ae2-49bd-973a-8d6cbd29e3be",
   "metadata": {
    "tags": []
   },
   "outputs": [
    {
     "name": "stdout",
     "output_type": "stream",
     "text": [
      "{'Matricule': ['2022020131', '2022020143', '2022020154', '2022020242'], 'Nom': ['moka', 'Muleli', 'MBIYA', 'Kateta'], 'prenom': ['GEDEON', 'alpha', 'felix', 'patrick'], 'age': ['23', '20', '18', '19'], 'GPA': ['A', 'B', 'A', 'C']}\n"
     ]
    }
   ],
   "source": [
    "print(info_tous_les_etudiants_BAC_GL_IA)"
   ]
  },
  {
   "cell_type": "code",
   "execution_count": 93,
   "id": "e00b690e-761e-489a-9d0d-c6e17d047999",
   "metadata": {
    "tags": []
   },
   "outputs": [],
   "source": [
    "# impooter pandas\n",
    "import pandas as pd"
   ]
  },
  {
   "cell_type": "code",
   "execution_count": 95,
   "id": "9a0ef25f-3376-4395-98de-4a92362e1710",
   "metadata": {
    "tags": []
   },
   "outputs": [],
   "source": [
    "donnees_etudiants = pd.DataFrame(info_tous_les_etudiants_BAC_GL_IA)"
   ]
  },
  {
   "cell_type": "code",
   "execution_count": 96,
   "id": "adb39c35-4217-4ce1-8a5d-b63c26af2eed",
   "metadata": {
    "tags": []
   },
   "outputs": [
    {
     "data": {
      "text/html": [
       "<div>\n",
       "<style scoped>\n",
       "    .dataframe tbody tr th:only-of-type {\n",
       "        vertical-align: middle;\n",
       "    }\n",
       "\n",
       "    .dataframe tbody tr th {\n",
       "        vertical-align: top;\n",
       "    }\n",
       "\n",
       "    .dataframe thead th {\n",
       "        text-align: right;\n",
       "    }\n",
       "</style>\n",
       "<table border=\"1\" class=\"dataframe\">\n",
       "  <thead>\n",
       "    <tr style=\"text-align: right;\">\n",
       "      <th></th>\n",
       "      <th>Matricule</th>\n",
       "      <th>Nom</th>\n",
       "      <th>prenom</th>\n",
       "      <th>age</th>\n",
       "      <th>GPA</th>\n",
       "    </tr>\n",
       "  </thead>\n",
       "  <tbody>\n",
       "    <tr>\n",
       "      <th>0</th>\n",
       "      <td>2022020131</td>\n",
       "      <td>moka</td>\n",
       "      <td>GEDEON</td>\n",
       "      <td>23</td>\n",
       "      <td>A</td>\n",
       "    </tr>\n",
       "    <tr>\n",
       "      <th>1</th>\n",
       "      <td>2022020143</td>\n",
       "      <td>Muleli</td>\n",
       "      <td>alpha</td>\n",
       "      <td>20</td>\n",
       "      <td>B</td>\n",
       "    </tr>\n",
       "    <tr>\n",
       "      <th>2</th>\n",
       "      <td>2022020154</td>\n",
       "      <td>MBIYA</td>\n",
       "      <td>felix</td>\n",
       "      <td>18</td>\n",
       "      <td>A</td>\n",
       "    </tr>\n",
       "    <tr>\n",
       "      <th>3</th>\n",
       "      <td>2022020242</td>\n",
       "      <td>Kateta</td>\n",
       "      <td>patrick</td>\n",
       "      <td>19</td>\n",
       "      <td>C</td>\n",
       "    </tr>\n",
       "  </tbody>\n",
       "</table>\n",
       "</div>"
      ],
      "text/plain": [
       "    Matricule     Nom   prenom age GPA\n",
       "0  2022020131    moka   GEDEON  23   A\n",
       "1  2022020143  Muleli    alpha  20   B\n",
       "2  2022020154   MBIYA    felix  18   A\n",
       "3  2022020242  Kateta  patrick  19   C"
      ]
     },
     "execution_count": 96,
     "metadata": {},
     "output_type": "execute_result"
    }
   ],
   "source": [
    "donnees_etudiants"
   ]
  },
  {
   "cell_type": "code",
   "execution_count": 97,
   "id": "89b34aaa-31fc-4c62-b042-d8e3ec82771d",
   "metadata": {
    "tags": []
   },
   "outputs": [
    {
     "data": {
      "text/html": [
       "<div>\n",
       "<style scoped>\n",
       "    .dataframe tbody tr th:only-of-type {\n",
       "        vertical-align: middle;\n",
       "    }\n",
       "\n",
       "    .dataframe tbody tr th {\n",
       "        vertical-align: top;\n",
       "    }\n",
       "\n",
       "    .dataframe thead th {\n",
       "        text-align: right;\n",
       "    }\n",
       "</style>\n",
       "<table border=\"1\" class=\"dataframe\">\n",
       "  <thead>\n",
       "    <tr style=\"text-align: right;\">\n",
       "      <th></th>\n",
       "      <th>Matricule</th>\n",
       "      <th>Nom</th>\n",
       "      <th>prenom</th>\n",
       "      <th>age</th>\n",
       "      <th>GPA</th>\n",
       "    </tr>\n",
       "  </thead>\n",
       "  <tbody>\n",
       "    <tr>\n",
       "      <th>0</th>\n",
       "      <td>2022020131</td>\n",
       "      <td>moka</td>\n",
       "      <td>GEDEON</td>\n",
       "      <td>23</td>\n",
       "      <td>A</td>\n",
       "    </tr>\n",
       "    <tr>\n",
       "      <th>1</th>\n",
       "      <td>2022020143</td>\n",
       "      <td>Muleli</td>\n",
       "      <td>alpha</td>\n",
       "      <td>20</td>\n",
       "      <td>B</td>\n",
       "    </tr>\n",
       "    <tr>\n",
       "      <th>2</th>\n",
       "      <td>2022020154</td>\n",
       "      <td>MBIYA</td>\n",
       "      <td>felix</td>\n",
       "      <td>18</td>\n",
       "      <td>A</td>\n",
       "    </tr>\n",
       "  </tbody>\n",
       "</table>\n",
       "</div>"
      ],
      "text/plain": [
       "    Matricule     Nom  prenom age GPA\n",
       "0  2022020131    moka  GEDEON  23   A\n",
       "1  2022020143  Muleli   alpha  20   B\n",
       "2  2022020154   MBIYA   felix  18   A"
      ]
     },
     "execution_count": 97,
     "metadata": {},
     "output_type": "execute_result"
    }
   ],
   "source": [
    "donnees_etudiants.head(3)"
   ]
  },
  {
   "cell_type": "code",
   "execution_count": 98,
   "id": "6d097fe1-e899-444b-bed7-eb290adbfd05",
   "metadata": {
    "tags": []
   },
   "outputs": [
    {
     "data": {
      "text/html": [
       "<div>\n",
       "<style scoped>\n",
       "    .dataframe tbody tr th:only-of-type {\n",
       "        vertical-align: middle;\n",
       "    }\n",
       "\n",
       "    .dataframe tbody tr th {\n",
       "        vertical-align: top;\n",
       "    }\n",
       "\n",
       "    .dataframe thead th {\n",
       "        text-align: right;\n",
       "    }\n",
       "</style>\n",
       "<table border=\"1\" class=\"dataframe\">\n",
       "  <thead>\n",
       "    <tr style=\"text-align: right;\">\n",
       "      <th></th>\n",
       "      <th>Matricule</th>\n",
       "      <th>Nom</th>\n",
       "      <th>prenom</th>\n",
       "      <th>age</th>\n",
       "      <th>GPA</th>\n",
       "    </tr>\n",
       "  </thead>\n",
       "  <tbody>\n",
       "    <tr>\n",
       "      <th>2</th>\n",
       "      <td>2022020154</td>\n",
       "      <td>MBIYA</td>\n",
       "      <td>felix</td>\n",
       "      <td>18</td>\n",
       "      <td>A</td>\n",
       "    </tr>\n",
       "    <tr>\n",
       "      <th>3</th>\n",
       "      <td>2022020242</td>\n",
       "      <td>Kateta</td>\n",
       "      <td>patrick</td>\n",
       "      <td>19</td>\n",
       "      <td>C</td>\n",
       "    </tr>\n",
       "  </tbody>\n",
       "</table>\n",
       "</div>"
      ],
      "text/plain": [
       "    Matricule     Nom   prenom age GPA\n",
       "2  2022020154   MBIYA    felix  18   A\n",
       "3  2022020242  Kateta  patrick  19   C"
      ]
     },
     "execution_count": 98,
     "metadata": {},
     "output_type": "execute_result"
    }
   ],
   "source": [
    "donnees_etudiants.tail(2)"
   ]
  },
  {
   "cell_type": "code",
   "execution_count": 99,
   "id": "d70da420-a582-4f04-a4ff-5941c228799a",
   "metadata": {
    "tags": []
   },
   "outputs": [
    {
     "name": "stdout",
     "output_type": "stream",
     "text": [
      "    Matricule     Nom   prenom age GPA\n",
      "0  2022020131    moka   GEDEON  23   A\n",
      "1  2022020143  Muleli    alpha  20   B\n",
      "2  2022020154   MBIYA    felix  18   A\n",
      "3  2022020242  Kateta  patrick  19   C\n"
     ]
    }
   ],
   "source": [
    "print(donnees_etudiants)"
   ]
  },
  {
   "cell_type": "code",
   "execution_count": 100,
   "id": "13a7b5af-e270-4270-8525-47f1846e855f",
   "metadata": {
    "tags": []
   },
   "outputs": [
    {
     "data": {
      "text/plain": [
       "0    2022020131\n",
       "1    2022020143\n",
       "2    2022020154\n",
       "3    2022020242\n",
       "Name: Matricule, dtype: object"
      ]
     },
     "execution_count": 100,
     "metadata": {},
     "output_type": "execute_result"
    }
   ],
   "source": [
    "donnees_etudiants['Matricule']"
   ]
  },
  {
   "cell_type": "code",
   "execution_count": 102,
   "id": "35768c86-558f-4eea-9062-d26a3cedbc9d",
   "metadata": {
    "tags": []
   },
   "outputs": [
    {
     "data": {
      "text/html": [
       "<div>\n",
       "<style scoped>\n",
       "    .dataframe tbody tr th:only-of-type {\n",
       "        vertical-align: middle;\n",
       "    }\n",
       "\n",
       "    .dataframe tbody tr th {\n",
       "        vertical-align: top;\n",
       "    }\n",
       "\n",
       "    .dataframe thead th {\n",
       "        text-align: right;\n",
       "    }\n",
       "</style>\n",
       "<table border=\"1\" class=\"dataframe\">\n",
       "  <thead>\n",
       "    <tr style=\"text-align: right;\">\n",
       "      <th></th>\n",
       "      <th>Matricule</th>\n",
       "      <th>Nom</th>\n",
       "    </tr>\n",
       "  </thead>\n",
       "  <tbody>\n",
       "    <tr>\n",
       "      <th>0</th>\n",
       "      <td>2022020131</td>\n",
       "      <td>moka</td>\n",
       "    </tr>\n",
       "    <tr>\n",
       "      <th>1</th>\n",
       "      <td>2022020143</td>\n",
       "      <td>Muleli</td>\n",
       "    </tr>\n",
       "    <tr>\n",
       "      <th>2</th>\n",
       "      <td>2022020154</td>\n",
       "      <td>MBIYA</td>\n",
       "    </tr>\n",
       "    <tr>\n",
       "      <th>3</th>\n",
       "      <td>2022020242</td>\n",
       "      <td>Kateta</td>\n",
       "    </tr>\n",
       "  </tbody>\n",
       "</table>\n",
       "</div>"
      ],
      "text/plain": [
       "    Matricule     Nom\n",
       "0  2022020131    moka\n",
       "1  2022020143  Muleli\n",
       "2  2022020154   MBIYA\n",
       "3  2022020242  Kateta"
      ]
     },
     "execution_count": 102,
     "metadata": {},
     "output_type": "execute_result"
    }
   ],
   "source": [
    "donnees_etudiants[['Matricule','Nom']]"
   ]
  },
  {
   "cell_type": "code",
   "execution_count": 104,
   "id": "382166a6-d5e1-45ce-b7d3-1f4a65fe5b6b",
   "metadata": {
    "tags": []
   },
   "outputs": [
    {
     "data": {
      "text/html": [
       "<div>\n",
       "<style scoped>\n",
       "    .dataframe tbody tr th:only-of-type {\n",
       "        vertical-align: middle;\n",
       "    }\n",
       "\n",
       "    .dataframe tbody tr th {\n",
       "        vertical-align: top;\n",
       "    }\n",
       "\n",
       "    .dataframe thead th {\n",
       "        text-align: right;\n",
       "    }\n",
       "</style>\n",
       "<table border=\"1\" class=\"dataframe\">\n",
       "  <thead>\n",
       "    <tr style=\"text-align: right;\">\n",
       "      <th></th>\n",
       "      <th>Matricule</th>\n",
       "      <th>Nom</th>\n",
       "      <th>prenom</th>\n",
       "      <th>age</th>\n",
       "      <th>GPA</th>\n",
       "    </tr>\n",
       "  </thead>\n",
       "  <tbody>\n",
       "    <tr>\n",
       "      <th>0</th>\n",
       "      <td>2022020131</td>\n",
       "      <td>moka</td>\n",
       "      <td>GEDEON</td>\n",
       "      <td>23</td>\n",
       "      <td>A</td>\n",
       "    </tr>\n",
       "    <tr>\n",
       "      <th>1</th>\n",
       "      <td>2022020143</td>\n",
       "      <td>Muleli</td>\n",
       "      <td>alpha</td>\n",
       "      <td>20</td>\n",
       "      <td>B</td>\n",
       "    </tr>\n",
       "    <tr>\n",
       "      <th>2</th>\n",
       "      <td>2022020154</td>\n",
       "      <td>MBIYA</td>\n",
       "      <td>felix</td>\n",
       "      <td>18</td>\n",
       "      <td>A</td>\n",
       "    </tr>\n",
       "    <tr>\n",
       "      <th>3</th>\n",
       "      <td>2022020242</td>\n",
       "      <td>Kateta</td>\n",
       "      <td>patrick</td>\n",
       "      <td>19</td>\n",
       "      <td>C</td>\n",
       "    </tr>\n",
       "  </tbody>\n",
       "</table>\n",
       "</div>"
      ],
      "text/plain": [
       "    Matricule     Nom   prenom age GPA\n",
       "0  2022020131    moka   GEDEON  23   A\n",
       "1  2022020143  Muleli    alpha  20   B\n",
       "2  2022020154   MBIYA    felix  18   A\n",
       "3  2022020242  Kateta  patrick  19   C"
      ]
     },
     "execution_count": 104,
     "metadata": {},
     "output_type": "execute_result"
    }
   ],
   "source": [
    "donnees_etudiants.iloc[ : , : ]"
   ]
  },
  {
   "cell_type": "code",
   "execution_count": 106,
   "id": "eb0a8a33-110d-4385-a1f9-d792b75994f1",
   "metadata": {
    "tags": []
   },
   "outputs": [
    {
     "data": {
      "text/html": [
       "<div>\n",
       "<style scoped>\n",
       "    .dataframe tbody tr th:only-of-type {\n",
       "        vertical-align: middle;\n",
       "    }\n",
       "\n",
       "    .dataframe tbody tr th {\n",
       "        vertical-align: top;\n",
       "    }\n",
       "\n",
       "    .dataframe thead th {\n",
       "        text-align: right;\n",
       "    }\n",
       "</style>\n",
       "<table border=\"1\" class=\"dataframe\">\n",
       "  <thead>\n",
       "    <tr style=\"text-align: right;\">\n",
       "      <th></th>\n",
       "      <th>Matricule</th>\n",
       "      <th>Nom</th>\n",
       "      <th>prenom</th>\n",
       "      <th>age</th>\n",
       "      <th>GPA</th>\n",
       "    </tr>\n",
       "  </thead>\n",
       "  <tbody>\n",
       "    <tr>\n",
       "      <th>2</th>\n",
       "      <td>2022020154</td>\n",
       "      <td>MBIYA</td>\n",
       "      <td>felix</td>\n",
       "      <td>18</td>\n",
       "      <td>A</td>\n",
       "    </tr>\n",
       "  </tbody>\n",
       "</table>\n",
       "</div>"
      ],
      "text/plain": [
       "    Matricule    Nom prenom age GPA\n",
       "2  2022020154  MBIYA  felix  18   A"
      ]
     },
     "execution_count": 106,
     "metadata": {},
     "output_type": "execute_result"
    }
   ],
   "source": [
    "# afficher seulement les informations de MBIYA\n",
    "donnees_etudiants.iloc[ 2:3 , :]"
   ]
  },
  {
   "cell_type": "code",
   "execution_count": 111,
   "id": "4ca0d8fd-26c6-416a-b427-aa7be2695177",
   "metadata": {
    "tags": []
   },
   "outputs": [
    {
     "data": {
      "text/html": [
       "<div>\n",
       "<style scoped>\n",
       "    .dataframe tbody tr th:only-of-type {\n",
       "        vertical-align: middle;\n",
       "    }\n",
       "\n",
       "    .dataframe tbody tr th {\n",
       "        vertical-align: top;\n",
       "    }\n",
       "\n",
       "    .dataframe thead th {\n",
       "        text-align: right;\n",
       "    }\n",
       "</style>\n",
       "<table border=\"1\" class=\"dataframe\">\n",
       "  <thead>\n",
       "    <tr style=\"text-align: right;\">\n",
       "      <th></th>\n",
       "      <th>age</th>\n",
       "    </tr>\n",
       "  </thead>\n",
       "  <tbody>\n",
       "    <tr>\n",
       "      <th>0</th>\n",
       "      <td>23</td>\n",
       "    </tr>\n",
       "    <tr>\n",
       "      <th>1</th>\n",
       "      <td>20</td>\n",
       "    </tr>\n",
       "    <tr>\n",
       "      <th>2</th>\n",
       "      <td>18</td>\n",
       "    </tr>\n",
       "    <tr>\n",
       "      <th>3</th>\n",
       "      <td>19</td>\n",
       "    </tr>\n",
       "  </tbody>\n",
       "</table>\n",
       "</div>"
      ],
      "text/plain": [
       "  age\n",
       "0  23\n",
       "1  20\n",
       "2  18\n",
       "3  19"
      ]
     },
     "execution_count": 111,
     "metadata": {},
     "output_type": "execute_result"
    }
   ],
   "source": [
    "# afficher seulement la colonne age\n",
    "donnees_etudiants.iloc[ : , 3:4]"
   ]
  },
  {
   "cell_type": "code",
   "execution_count": 121,
   "id": "744843f7-2b4e-4481-a404-48c00ac7e8c9",
   "metadata": {
    "tags": []
   },
   "outputs": [],
   "source": [
    "# Ajouter les colonnes\n",
    "donnees_etudiants['Genre'] = ['M', 'F', 'M', 'M']\n",
    "donnees_etudiants['pourcentage'] = ['75', '55', '57', '60']"
   ]
  },
  {
   "cell_type": "code",
   "execution_count": 122,
   "id": "485ee429-b512-4d55-83ff-c678f220120c",
   "metadata": {
    "tags": []
   },
   "outputs": [
    {
     "data": {
      "text/html": [
       "<div>\n",
       "<style scoped>\n",
       "    .dataframe tbody tr th:only-of-type {\n",
       "        vertical-align: middle;\n",
       "    }\n",
       "\n",
       "    .dataframe tbody tr th {\n",
       "        vertical-align: top;\n",
       "    }\n",
       "\n",
       "    .dataframe thead th {\n",
       "        text-align: right;\n",
       "    }\n",
       "</style>\n",
       "<table border=\"1\" class=\"dataframe\">\n",
       "  <thead>\n",
       "    <tr style=\"text-align: right;\">\n",
       "      <th></th>\n",
       "      <th>Matricule</th>\n",
       "      <th>Nom</th>\n",
       "      <th>prenom</th>\n",
       "      <th>age</th>\n",
       "      <th>Genre</th>\n",
       "      <th>pourcentage</th>\n",
       "    </tr>\n",
       "  </thead>\n",
       "  <tbody>\n",
       "    <tr>\n",
       "      <th>0</th>\n",
       "      <td>2022020131</td>\n",
       "      <td>moka</td>\n",
       "      <td>GEDEON</td>\n",
       "      <td>23</td>\n",
       "      <td>M</td>\n",
       "      <td>75</td>\n",
       "    </tr>\n",
       "    <tr>\n",
       "      <th>1</th>\n",
       "      <td>2022020143</td>\n",
       "      <td>Muleli</td>\n",
       "      <td>alpha</td>\n",
       "      <td>20</td>\n",
       "      <td>F</td>\n",
       "      <td>55</td>\n",
       "    </tr>\n",
       "    <tr>\n",
       "      <th>2</th>\n",
       "      <td>2022020154</td>\n",
       "      <td>MBIYA</td>\n",
       "      <td>felix</td>\n",
       "      <td>18</td>\n",
       "      <td>M</td>\n",
       "      <td>57</td>\n",
       "    </tr>\n",
       "    <tr>\n",
       "      <th>3</th>\n",
       "      <td>2022020242</td>\n",
       "      <td>Kateta</td>\n",
       "      <td>patrick</td>\n",
       "      <td>19</td>\n",
       "      <td>M</td>\n",
       "      <td>60</td>\n",
       "    </tr>\n",
       "  </tbody>\n",
       "</table>\n",
       "</div>"
      ],
      "text/plain": [
       "    Matricule     Nom   prenom age Genre pourcentage\n",
       "0  2022020131    moka   GEDEON  23     M          75\n",
       "1  2022020143  Muleli    alpha  20     F          55\n",
       "2  2022020154   MBIYA    felix  18     M          57\n",
       "3  2022020242  Kateta  patrick  19     M          60"
      ]
     },
     "execution_count": 122,
     "metadata": {},
     "output_type": "execute_result"
    }
   ],
   "source": [
    "donnees_etudiants"
   ]
  },
  {
   "cell_type": "code",
   "execution_count": 119,
   "id": "eebf3fe0-cdcd-40bc-b73c-9410a28be566",
   "metadata": {
    "tags": []
   },
   "outputs": [],
   "source": [
    "donnees_etudiants.drop(columns = 'GPA',inplace = True,axis=1)"
   ]
  },
  {
   "cell_type": "code",
   "execution_count": 120,
   "id": "0699328e-239f-44df-91b0-aabb5ada9f15",
   "metadata": {
    "tags": []
   },
   "outputs": [
    {
     "data": {
      "text/html": [
       "<div>\n",
       "<style scoped>\n",
       "    .dataframe tbody tr th:only-of-type {\n",
       "        vertical-align: middle;\n",
       "    }\n",
       "\n",
       "    .dataframe tbody tr th {\n",
       "        vertical-align: top;\n",
       "    }\n",
       "\n",
       "    .dataframe thead th {\n",
       "        text-align: right;\n",
       "    }\n",
       "</style>\n",
       "<table border=\"1\" class=\"dataframe\">\n",
       "  <thead>\n",
       "    <tr style=\"text-align: right;\">\n",
       "      <th></th>\n",
       "      <th>Matricule</th>\n",
       "      <th>Nom</th>\n",
       "      <th>prenom</th>\n",
       "      <th>age</th>\n",
       "      <th>Genre</th>\n",
       "      <th>pourcentage</th>\n",
       "    </tr>\n",
       "  </thead>\n",
       "  <tbody>\n",
       "    <tr>\n",
       "      <th>0</th>\n",
       "      <td>2022020131</td>\n",
       "      <td>moka</td>\n",
       "      <td>GEDEON</td>\n",
       "      <td>23</td>\n",
       "      <td>M</td>\n",
       "      <td>75</td>\n",
       "    </tr>\n",
       "    <tr>\n",
       "      <th>1</th>\n",
       "      <td>2022020143</td>\n",
       "      <td>Muleli</td>\n",
       "      <td>alpha</td>\n",
       "      <td>20</td>\n",
       "      <td>F</td>\n",
       "      <td>55</td>\n",
       "    </tr>\n",
       "    <tr>\n",
       "      <th>2</th>\n",
       "      <td>2022020154</td>\n",
       "      <td>MBIYA</td>\n",
       "      <td>felix</td>\n",
       "      <td>18</td>\n",
       "      <td>M</td>\n",
       "      <td>57</td>\n",
       "    </tr>\n",
       "    <tr>\n",
       "      <th>3</th>\n",
       "      <td>2022020242</td>\n",
       "      <td>Kateta</td>\n",
       "      <td>patrick</td>\n",
       "      <td>19</td>\n",
       "      <td>M</td>\n",
       "      <td>60</td>\n",
       "    </tr>\n",
       "  </tbody>\n",
       "</table>\n",
       "</div>"
      ],
      "text/plain": [
       "    Matricule     Nom   prenom age Genre pourcentage\n",
       "0  2022020131    moka   GEDEON  23     M          75\n",
       "1  2022020143  Muleli    alpha  20     F          55\n",
       "2  2022020154   MBIYA    felix  18     M          57\n",
       "3  2022020242  Kateta  patrick  19     M          60"
      ]
     },
     "execution_count": 120,
     "metadata": {},
     "output_type": "execute_result"
    }
   ],
   "source": [
    "donnees_etudiants"
   ]
  },
  {
   "cell_type": "code",
   "execution_count": 116,
   "id": "bcf6ec74-6b7c-4678-b4fb-414016654169",
   "metadata": {
    "tags": []
   },
   "outputs": [],
   "source": [
    "# convertir la colonne Genre en M = 1 et F = 0\n",
    "# Mapping de la colonne Genre\n",
    "Mapping_Genre = {\n",
    "    'M': 1,\n",
    "    'F': 0,\n",
    "}\n",
    "\n",
    "donnees_etudiants['Genre'] = donnees_etudiants['Genre'].map(Mapping_Genre)\n",
    "2ieme methode\n",
    "\n",
    "donnees_etudiants['genre'] = np.where(donnees_etudiants['Genre']"
   ]
  },
  {
   "cell_type": "code",
   "execution_count": 117,
   "id": "1f605692-1323-4a0c-aaf2-3dd2b068c1b8",
   "metadata": {
    "tags": []
   },
   "outputs": [
    {
     "data": {
      "text/html": [
       "<div>\n",
       "<style scoped>\n",
       "    .dataframe tbody tr th:only-of-type {\n",
       "        vertical-align: middle;\n",
       "    }\n",
       "\n",
       "    .dataframe tbody tr th {\n",
       "        vertical-align: top;\n",
       "    }\n",
       "\n",
       "    .dataframe thead th {\n",
       "        text-align: right;\n",
       "    }\n",
       "</style>\n",
       "<table border=\"1\" class=\"dataframe\">\n",
       "  <thead>\n",
       "    <tr style=\"text-align: right;\">\n",
       "      <th></th>\n",
       "      <th>Matricule</th>\n",
       "      <th>Nom</th>\n",
       "      <th>prenom</th>\n",
       "      <th>age</th>\n",
       "      <th>GPA</th>\n",
       "      <th>Genre</th>\n",
       "      <th>pourcentage</th>\n",
       "    </tr>\n",
       "  </thead>\n",
       "  <tbody>\n",
       "    <tr>\n",
       "      <th>0</th>\n",
       "      <td>2022020131</td>\n",
       "      <td>moka</td>\n",
       "      <td>GEDEON</td>\n",
       "      <td>23</td>\n",
       "      <td>A</td>\n",
       "      <td>1</td>\n",
       "      <td>75</td>\n",
       "    </tr>\n",
       "    <tr>\n",
       "      <th>1</th>\n",
       "      <td>2022020143</td>\n",
       "      <td>Muleli</td>\n",
       "      <td>alpha</td>\n",
       "      <td>20</td>\n",
       "      <td>B</td>\n",
       "      <td>0</td>\n",
       "      <td>55</td>\n",
       "    </tr>\n",
       "    <tr>\n",
       "      <th>2</th>\n",
       "      <td>2022020154</td>\n",
       "      <td>MBIYA</td>\n",
       "      <td>felix</td>\n",
       "      <td>18</td>\n",
       "      <td>A</td>\n",
       "      <td>1</td>\n",
       "      <td>57</td>\n",
       "    </tr>\n",
       "    <tr>\n",
       "      <th>3</th>\n",
       "      <td>2022020242</td>\n",
       "      <td>Kateta</td>\n",
       "      <td>patrick</td>\n",
       "      <td>19</td>\n",
       "      <td>C</td>\n",
       "      <td>1</td>\n",
       "      <td>60</td>\n",
       "    </tr>\n",
       "  </tbody>\n",
       "</table>\n",
       "</div>"
      ],
      "text/plain": [
       "    Matricule     Nom   prenom age GPA  Genre pourcentage\n",
       "0  2022020131    moka   GEDEON  23   A      1          75\n",
       "1  2022020143  Muleli    alpha  20   B      0          55\n",
       "2  2022020154   MBIYA    felix  18   A      1          57\n",
       "3  2022020242  Kateta  patrick  19   C      1          60"
      ]
     },
     "execution_count": 117,
     "metadata": {},
     "output_type": "execute_result"
    }
   ],
   "source": [
    "donnees_etudiants"
   ]
  },
  {
   "cell_type": "markdown",
   "id": "4b730568-6223-4ea9-ae1e-b6ac6ed03d9c",
   "metadata": {},
   "source": [
    "# D. VISUALISATION DES DONNEES"
   ]
  },
  {
   "cell_type": "code",
   "execution_count": 129,
   "id": "c3d527b3-41fa-4e14-9b47-6f51162ed15f",
   "metadata": {
    "tags": []
   },
   "outputs": [],
   "source": [
    "# creation des donnees\n",
    "X = np.linspace(0, 2, 50)"
   ]
  },
  {
   "cell_type": "code",
   "execution_count": 130,
   "id": "8dd888b3-b163-4052-b9fe-4e96bb963bee",
   "metadata": {
    "tags": []
   },
   "outputs": [
    {
     "data": {
      "text/plain": [
       "array([0.        , 0.04081633, 0.08163265, 0.12244898, 0.16326531,\n",
       "       0.20408163, 0.24489796, 0.28571429, 0.32653061, 0.36734694,\n",
       "       0.40816327, 0.44897959, 0.48979592, 0.53061224, 0.57142857,\n",
       "       0.6122449 , 0.65306122, 0.69387755, 0.73469388, 0.7755102 ,\n",
       "       0.81632653, 0.85714286, 0.89795918, 0.93877551, 0.97959184,\n",
       "       1.02040816, 1.06122449, 1.10204082, 1.14285714, 1.18367347,\n",
       "       1.2244898 , 1.26530612, 1.30612245, 1.34693878, 1.3877551 ,\n",
       "       1.42857143, 1.46938776, 1.51020408, 1.55102041, 1.59183673,\n",
       "       1.63265306, 1.67346939, 1.71428571, 1.75510204, 1.79591837,\n",
       "       1.83673469, 1.87755102, 1.91836735, 1.95918367, 2.        ])"
      ]
     },
     "execution_count": 130,
     "metadata": {},
     "output_type": "execute_result"
    }
   ],
   "source": [
    "X"
   ]
  },
  {
   "cell_type": "code",
   "execution_count": 126,
   "id": "575566c0-7cb0-4581-b366-92f4688aa559",
   "metadata": {
    "tags": []
   },
   "outputs": [],
   "source": [
    "# importter MATPLOTLIB\n",
    "import matplotlib.pyplot as plt"
   ]
  },
  {
   "cell_type": "code",
   "execution_count": 131,
   "id": "06cd5d00-e550-4562-9a5a-768108b5a0b5",
   "metadata": {
    "tags": []
   },
   "outputs": [
    {
     "data": {
      "text/plain": [
       "<matplotlib.legend.Legend at 0x12d41da0e90>"
      ]
     },
     "execution_count": 131,
     "metadata": {},
     "output_type": "execute_result"
    },
    {
     "data": {
      "image/png": "[encoded data removed]",
      "text/plain": [
       "<Figure size 600x400 with 1 Axes>"
      ]
     },
     "metadata": {},
     "output_type": "display_data"
    }
   ],
   "source": [
    "fig, ax = plt.subplots(figsize=(6, 4))\n",
    "ax.plot(X, X*2,label='Carre')\n",
    "ax.plot(X,X**2,label='Carre de X')\n",
    "ax.plot(X, X**3,label='Carre de X')\n",
    "ax.set_xlabel('donnees de X')\n",
    "ax.set_ylabel('donnees de Y')\n",
    "plt.title('donnees de linspace entre 0 et 2')\n",
    "ax.legend()"
   ]
  },
  {
   "cell_type": "code",
   "execution_count": 132,
   "id": "6fb77659-5ccb-4837-a7f9-dbdc40bb064d",
   "metadata": {
    "tags": []
   },
   "outputs": [],
   "source": [
    "# IMPORTER SEABORN\n",
    "import seaborn as sns"
   ]
  },
  {
   "cell_type": "code",
   "execution_count": 133,
   "id": "ad49bec0-707e-44f8-85a0-feda4a5476a7",
   "metadata": {
    "tags": []
   },
   "outputs": [],
   "source": [
    "iris_data = sns.load_dataset('iris')"
   ]
  },
  {
   "cell_type": "code",
   "execution_count": 134,
   "id": "dccb5152-3f60-4812-8100-86ce40131e56",
   "metadata": {
    "tags": []
   },
   "outputs": [
    {
     "data": {
      "text/html": [
       "<div>\n",
       "<style scoped>\n",
       "    .dataframe tbody tr th:only-of-type {\n",
       "        vertical-align: middle;\n",
       "    }\n",
       "\n",
       "    .dataframe tbody tr th {\n",
       "        vertical-align: top;\n",
       "    }\n",
       "\n",
       "    .dataframe thead th {\n",
       "        text-align: right;\n",
       "    }\n",
       "</style>\n",
       "<table border=\"1\" class=\"dataframe\">\n",
       "  <thead>\n",
       "    <tr style=\"text-align: right;\">\n",
       "      <th></th>\n",
       "      <th>sepal_length</th>\n",
       "      <th>sepal_width</th>\n",
       "      <th>petal_length</th>\n",
       "      <th>petal_width</th>\n",
       "      <th>species</th>\n",
       "    </tr>\n",
       "  </thead>\n",
       "  <tbody>\n",
       "    <tr>\n",
       "      <th>0</th>\n",
       "      <td>5.1</td>\n",
       "      <td>3.5</td>\n",
       "      <td>1.4</td>\n",
       "      <td>0.2</td>\n",
       "      <td>setosa</td>\n",
       "    </tr>\n",
       "    <tr>\n",
       "      <th>1</th>\n",
       "      <td>4.9</td>\n",
       "      <td>3.0</td>\n",
       "      <td>1.4</td>\n",
       "      <td>0.2</td>\n",
       "      <td>setosa</td>\n",
       "    </tr>\n",
       "    <tr>\n",
       "      <th>2</th>\n",
       "      <td>4.7</td>\n",
       "      <td>3.2</td>\n",
       "      <td>1.3</td>\n",
       "      <td>0.2</td>\n",
       "      <td>setosa</td>\n",
       "    </tr>\n",
       "    <tr>\n",
       "      <th>3</th>\n",
       "      <td>4.6</td>\n",
       "      <td>3.1</td>\n",
       "      <td>1.5</td>\n",
       "      <td>0.2</td>\n",
       "      <td>setosa</td>\n",
       "    </tr>\n",
       "    <tr>\n",
       "      <th>4</th>\n",
       "      <td>5.0</td>\n",
       "      <td>3.6</td>\n",
       "      <td>1.4</td>\n",
       "      <td>0.2</td>\n",
       "      <td>setosa</td>\n",
       "    </tr>\n",
       "  </tbody>\n",
       "</table>\n",
       "</div>"
      ],
      "text/plain": [
       "   sepal_length  sepal_width  petal_length  petal_width species\n",
       "0           5.1          3.5           1.4          0.2  setosa\n",
       "1           4.9          3.0           1.4          0.2  setosa\n",
       "2           4.7          3.2           1.3          0.2  setosa\n",
       "3           4.6          3.1           1.5          0.2  setosa\n",
       "4           5.0          3.6           1.4          0.2  setosa"
      ]
     },
     "execution_count": 134,
     "metadata": {},
     "output_type": "execute_result"
    }
   ],
   "source": [
    "iris_data.head()"
   ]
  },
  {
   "cell_type": "code",
   "execution_count": 135,
   "id": "f5e16931-8a6f-49db-8081-b5b7a8b05cf3",
   "metadata": {
    "tags": []
   },
   "outputs": [
    {
     "data": {
      "text/plain": [
       "(150, 5)"
      ]
     },
     "execution_count": 135,
     "metadata": {},
     "output_type": "execute_result"
    }
   ],
   "source": [
    "iris_data.shape"
   ]
  },
  {
   "cell_type": "code",
   "execution_count": 136,
   "id": "f4799616-959e-477e-9647-d7c360a32296",
   "metadata": {
    "tags": []
   },
   "outputs": [
    {
     "data": {
      "text/plain": [
       "array(['setosa', 'versicolor', 'virginica'], dtype=object)"
      ]
     },
     "execution_count": 136,
     "metadata": {},
     "output_type": "execute_result"
    }
   ],
   "source": [
    "iris_data['species'].unique()"
   ]
  },
  {
   "cell_type": "code",
   "execution_count": 148,
   "id": "b1ae1459-4a9a-4458-a64e-57daf34aa7e7",
   "metadata": {
    "tags": []
   },
   "outputs": [
    {
     "data": {
      "text/plain": [
       "<Axes: xlabel='sepal_length', ylabel='sepal_width'>"
      ]
     },
     "execution_count": 148,
     "metadata": {},
     "output_type": "execute_result"
    },
    {
     "data": {
      "image/png": "[encoded data removed]",
      "text/plain": [
       "<Figure size 640x480 with 1 Axes>"
      ]
     },
     "metadata": {},
     "output_type": "display_data"
    }
   ],
   "source": [
    "sns.scatterplot(x='sepal_length', y='sepal_width', data=iris_data, hue='species')"
   ]
  },
  {
   "cell_type": "code",
   "execution_count": 150,
   "id": "d5da0651-35b0-4112-adbb-1eac6549dc88",
   "metadata": {
    "tags": []
   },
   "outputs": [],
   "source": [
    "Mapping_species = {\n",
    "    'setosa': 0,\n",
    "    'versicolor': 1,\n",
    "    'virginica': 2,\n",
    "}\n",
    "iris_data['species'] = iris_data['species'].map(Mapping_species)"
   ]
  },
  {
   "cell_type": "code",
   "execution_count": 151,
   "id": "fe70a1ff-892d-4e1c-9679-ce760b21dac5",
   "metadata": {
    "tags": []
   },
   "outputs": [
    {
     "data": {
      "text/html": [
       "<div>\n",
       "<style scoped>\n",
       "    .dataframe tbody tr th:only-of-type {\n",
       "        vertical-align: middle;\n",
       "    }\n",
       "\n",
       "    .dataframe tbody tr th {\n",
       "        vertical-align: top;\n",
       "    }\n",
       "\n",
       "    .dataframe thead th {\n",
       "        text-align: right;\n",
       "    }\n",
       "</style>\n",
       "<table border=\"1\" class=\"dataframe\">\n",
       "  <thead>\n",
       "    <tr style=\"text-align: right;\">\n",
       "      <th></th>\n",
       "      <th>sepal_length</th>\n",
       "      <th>sepal_width</th>\n",
       "      <th>petal_length</th>\n",
       "      <th>petal_width</th>\n",
       "      <th>species</th>\n",
       "    </tr>\n",
       "  </thead>\n",
       "  <tbody>\n",
       "    <tr>\n",
       "      <th>0</th>\n",
       "      <td>5.1</td>\n",
       "      <td>3.5</td>\n",
       "      <td>1.4</td>\n",
       "      <td>0.2</td>\n",
       "      <td>0</td>\n",
       "    </tr>\n",
       "    <tr>\n",
       "      <th>1</th>\n",
       "      <td>4.9</td>\n",
       "      <td>3.0</td>\n",
       "      <td>1.4</td>\n",
       "      <td>0.2</td>\n",
       "      <td>0</td>\n",
       "    </tr>\n",
       "    <tr>\n",
       "      <th>2</th>\n",
       "      <td>4.7</td>\n",
       "      <td>3.2</td>\n",
       "      <td>1.3</td>\n",
       "      <td>0.2</td>\n",
       "      <td>0</td>\n",
       "    </tr>\n",
       "    <tr>\n",
       "      <th>3</th>\n",
       "      <td>4.6</td>\n",
       "      <td>3.1</td>\n",
       "      <td>1.5</td>\n",
       "      <td>0.2</td>\n",
       "      <td>0</td>\n",
       "    </tr>\n",
       "    <tr>\n",
       "      <th>4</th>\n",
       "      <td>5.0</td>\n",
       "      <td>3.6</td>\n",
       "      <td>1.4</td>\n",
       "      <td>0.2</td>\n",
       "      <td>0</td>\n",
       "    </tr>\n",
       "    <tr>\n",
       "      <th>...</th>\n",
       "      <td>...</td>\n",
       "      <td>...</td>\n",
       "      <td>...</td>\n",
       "      <td>...</td>\n",
       "      <td>...</td>\n",
       "    </tr>\n",
       "    <tr>\n",
       "      <th>145</th>\n",
       "      <td>6.7</td>\n",
       "      <td>3.0</td>\n",
       "      <td>5.2</td>\n",
       "      <td>2.3</td>\n",
       "      <td>2</td>\n",
       "    </tr>\n",
       "    <tr>\n",
       "      <th>146</th>\n",
       "      <td>6.3</td>\n",
       "      <td>2.5</td>\n",
       "      <td>5.0</td>\n",
       "      <td>1.9</td>\n",
       "      <td>2</td>\n",
       "    </tr>\n",
       "    <tr>\n",
       "      <th>147</th>\n",
       "      <td>6.5</td>\n",
       "      <td>3.0</td>\n",
       "      <td>5.2</td>\n",
       "      <td>2.0</td>\n",
       "      <td>2</td>\n",
       "    </tr>\n",
       "    <tr>\n",
       "      <th>148</th>\n",
       "      <td>6.2</td>\n",
       "      <td>3.4</td>\n",
       "      <td>5.4</td>\n",
       "      <td>2.3</td>\n",
       "      <td>2</td>\n",
       "    </tr>\n",
       "    <tr>\n",
       "      <th>149</th>\n",
       "      <td>5.9</td>\n",
       "      <td>3.0</td>\n",
       "      <td>5.1</td>\n",
       "      <td>1.8</td>\n",
       "      <td>2</td>\n",
       "    </tr>\n",
       "  </tbody>\n",
       "</table>\n",
       "<p>150 rows × 5 columns</p>\n",
       "</div>"
      ],
      "text/plain": [
       "     sepal_length  sepal_width  petal_length  petal_width  species\n",
       "0             5.1          3.5           1.4          0.2        0\n",
       "1             4.9          3.0           1.4          0.2        0\n",
       "2             4.7          3.2           1.3          0.2        0\n",
       "3             4.6          3.1           1.5          0.2        0\n",
       "4             5.0          3.6           1.4          0.2        0\n",
       "..            ...          ...           ...          ...      ...\n",
       "145           6.7          3.0           5.2          2.3        2\n",
       "146           6.3          2.5           5.0          1.9        2\n",
       "147           6.5          3.0           5.2          2.0        2\n",
       "148           6.2          3.4           5.4          2.3        2\n",
       "149           5.9          3.0           5.1          1.8        2\n",
       "\n",
       "[150 rows x 5 columns]"
      ]
     },
     "execution_count": 151,
     "metadata": {},
     "output_type": "execute_result"
    }
   ],
   "source": [
    "iris_data"
   ]
  },
  {
   "cell_type": "code",
   "execution_count": 152,
   "id": "c4f5b04d-bdbb-42b7-937a-1bef7e57c9b6",
   "metadata": {
    "tags": []
   },
   "outputs": [
    {
     "data": {
      "text/plain": [
       "array([0, 1, 2], dtype=int64)"
      ]
     },
     "execution_count": 152,
     "metadata": {},
     "output_type": "execute_result"
    }
   ],
   "source": [
    "iris_data['species'].unique()"
   ]
  },
  {
   "cell_type": "code",
   "execution_count": null,
   "id": "3a97327e-874d-477c-a27a-cf34097d36a2",
   "metadata": {},
   "outputs": [],
   "source": []
  },
  {
   "cell_type": "code",
   "execution_count": null,
   "id": "bfa15fd1-1bb6-4367-9c56-a197635c03ba",
   "metadata": {},
   "outputs": [],
   "source": []
  }
 ],
 "metadata": {
  "kernelspec": {
   "display_name": "Python 3 (ipykernel)",
   "language": "python",
   "name": "python3"
  },
  "language_info": {
   "codemirror_mode": {
    "name": "ipython",
    "version": 3
   },
   "file_extension": ".py",
   "mimetype": "text/x-python",
   "name": "python",
   "nbconvert_exporter": "python",
   "pygments_lexer": "ipython3",
   "version": "3.11.5"
  }
 },
 "nbformat": 4,
 "nbformat_minor": 5
}
